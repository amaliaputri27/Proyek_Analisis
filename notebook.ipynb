{
  "cells": [
    {
      "cell_type": "markdown",
      "metadata": {
        "id": "H9wADwK78DCz"
      },
      "source": [
        "# Proyek Analisis Data: [Input Nama Dataset]\n",
        "Nama: [Amalia Putri]\n",
        "Email: [aleaaap9@gmail.com]\n",
        "ID Dicoding: [aleailearn]\n"
      ]
    },
    {
      "cell_type": "markdown",
      "metadata": {
        "id": "eE0raob58DC0"
      },
      "source": [
        "## Menentukan Pertanyaan Bisnis"
      ]
    },
    {
      "cell_type": "markdown",
      "metadata": {
        "id": "GmQeQ5YF8DC0"
      },
      "source": [
        "Pertanyaan 1: \"Bagaimana pengaruh suhu (temp) terhadap jumlah total sewa (cnt) pada hari kerja dibandingkan dengan hari libur?\"\n",
        "\n",
        "pertanyaan 2: \"Strategi marketing apa yang dapat diterapkan untuk meningkatkan jumlah pengguna (cnt) pada hari kerja ketika kondisi cuaca buruk?\""
      ]
    },
    {
      "cell_type": "markdown",
      "metadata": {
        "id": "H-z4QGlO8DC1"
      },
      "source": [
        "## Import Semua Packages/Library yang Digunakan"
      ]
    },
    {
      "cell_type": "code",
      "execution_count": null,
      "metadata": {
        "id": "FVYwaObI8DC1"
      },
      "outputs": [],
      "source": [
        "# Import library yang dibutuhkan\n",
        "import numpy as np\n",
        "import pandas as pd\n",
        "import seaborn as sns\n",
        "import matplotlib.pyplot as plt"
      ]
    },
    {
      "cell_type": "markdown",
      "source": [
        "**Sebelum memasuki tahap data wrangling, saya meengunggah file terlebih dahulu.**\n"
      ],
      "metadata": {
        "id": "tFEiSh1ZbkN7"
      }
    },
    {
      "cell_type": "code",
      "source": [
        "from google.colab import files\n",
        "\n",
        "uploaded = files.upload()"
      ],
      "metadata": {
        "id": "fQKbtFXNcAmk",
        "outputId": "0674c26d-c794-422d-e4fa-01d99e7eaa64",
        "colab": {
          "base_uri": "https://localhost:8080/",
          "height": 38
        }
      },
      "execution_count": null,
      "outputs": [
        {
          "output_type": "display_data",
          "data": {
            "text/plain": [
              "<IPython.core.display.HTML object>"
            ],
            "text/html": [
              "\n",
              "     <input type=\"file\" id=\"files-cff955fe-9c90-4030-8755-a912af4f2e94\" name=\"files[]\" multiple disabled\n",
              "        style=\"border:none\" />\n",
              "     <output id=\"result-cff955fe-9c90-4030-8755-a912af4f2e94\">\n",
              "      Upload widget is only available when the cell has been executed in the\n",
              "      current browser session. Please rerun this cell to enable.\n",
              "      </output>\n",
              "      <script>// Copyright 2017 Google LLC\n",
              "//\n",
              "// Licensed under the Apache License, Version 2.0 (the \"License\");\n",
              "// you may not use this file except in compliance with the License.\n",
              "// You may obtain a copy of the License at\n",
              "//\n",
              "//      http://www.apache.org/licenses/LICENSE-2.0\n",
              "//\n",
              "// Unless required by applicable law or agreed to in writing, software\n",
              "// distributed under the License is distributed on an \"AS IS\" BASIS,\n",
              "// WITHOUT WARRANTIES OR CONDITIONS OF ANY KIND, either express or implied.\n",
              "// See the License for the specific language governing permissions and\n",
              "// limitations under the License.\n",
              "\n",
              "/**\n",
              " * @fileoverview Helpers for google.colab Python module.\n",
              " */\n",
              "(function(scope) {\n",
              "function span(text, styleAttributes = {}) {\n",
              "  const element = document.createElement('span');\n",
              "  element.textContent = text;\n",
              "  for (const key of Object.keys(styleAttributes)) {\n",
              "    element.style[key] = styleAttributes[key];\n",
              "  }\n",
              "  return element;\n",
              "}\n",
              "\n",
              "// Max number of bytes which will be uploaded at a time.\n",
              "const MAX_PAYLOAD_SIZE = 100 * 1024;\n",
              "\n",
              "function _uploadFiles(inputId, outputId) {\n",
              "  const steps = uploadFilesStep(inputId, outputId);\n",
              "  const outputElement = document.getElementById(outputId);\n",
              "  // Cache steps on the outputElement to make it available for the next call\n",
              "  // to uploadFilesContinue from Python.\n",
              "  outputElement.steps = steps;\n",
              "\n",
              "  return _uploadFilesContinue(outputId);\n",
              "}\n",
              "\n",
              "// This is roughly an async generator (not supported in the browser yet),\n",
              "// where there are multiple asynchronous steps and the Python side is going\n",
              "// to poll for completion of each step.\n",
              "// This uses a Promise to block the python side on completion of each step,\n",
              "// then passes the result of the previous step as the input to the next step.\n",
              "function _uploadFilesContinue(outputId) {\n",
              "  const outputElement = document.getElementById(outputId);\n",
              "  const steps = outputElement.steps;\n",
              "\n",
              "  const next = steps.next(outputElement.lastPromiseValue);\n",
              "  return Promise.resolve(next.value.promise).then((value) => {\n",
              "    // Cache the last promise value to make it available to the next\n",
              "    // step of the generator.\n",
              "    outputElement.lastPromiseValue = value;\n",
              "    return next.value.response;\n",
              "  });\n",
              "}\n",
              "\n",
              "/**\n",
              " * Generator function which is called between each async step of the upload\n",
              " * process.\n",
              " * @param {string} inputId Element ID of the input file picker element.\n",
              " * @param {string} outputId Element ID of the output display.\n",
              " * @return {!Iterable<!Object>} Iterable of next steps.\n",
              " */\n",
              "function* uploadFilesStep(inputId, outputId) {\n",
              "  const inputElement = document.getElementById(inputId);\n",
              "  inputElement.disabled = false;\n",
              "\n",
              "  const outputElement = document.getElementById(outputId);\n",
              "  outputElement.innerHTML = '';\n",
              "\n",
              "  const pickedPromise = new Promise((resolve) => {\n",
              "    inputElement.addEventListener('change', (e) => {\n",
              "      resolve(e.target.files);\n",
              "    });\n",
              "  });\n",
              "\n",
              "  const cancel = document.createElement('button');\n",
              "  inputElement.parentElement.appendChild(cancel);\n",
              "  cancel.textContent = 'Cancel upload';\n",
              "  const cancelPromise = new Promise((resolve) => {\n",
              "    cancel.onclick = () => {\n",
              "      resolve(null);\n",
              "    };\n",
              "  });\n",
              "\n",
              "  // Wait for the user to pick the files.\n",
              "  const files = yield {\n",
              "    promise: Promise.race([pickedPromise, cancelPromise]),\n",
              "    response: {\n",
              "      action: 'starting',\n",
              "    }\n",
              "  };\n",
              "\n",
              "  cancel.remove();\n",
              "\n",
              "  // Disable the input element since further picks are not allowed.\n",
              "  inputElement.disabled = true;\n",
              "\n",
              "  if (!files) {\n",
              "    return {\n",
              "      response: {\n",
              "        action: 'complete',\n",
              "      }\n",
              "    };\n",
              "  }\n",
              "\n",
              "  for (const file of files) {\n",
              "    const li = document.createElement('li');\n",
              "    li.append(span(file.name, {fontWeight: 'bold'}));\n",
              "    li.append(span(\n",
              "        `(${file.type || 'n/a'}) - ${file.size} bytes, ` +\n",
              "        `last modified: ${\n",
              "            file.lastModifiedDate ? file.lastModifiedDate.toLocaleDateString() :\n",
              "                                    'n/a'} - `));\n",
              "    const percent = span('0% done');\n",
              "    li.appendChild(percent);\n",
              "\n",
              "    outputElement.appendChild(li);\n",
              "\n",
              "    const fileDataPromise = new Promise((resolve) => {\n",
              "      const reader = new FileReader();\n",
              "      reader.onload = (e) => {\n",
              "        resolve(e.target.result);\n",
              "      };\n",
              "      reader.readAsArrayBuffer(file);\n",
              "    });\n",
              "    // Wait for the data to be ready.\n",
              "    let fileData = yield {\n",
              "      promise: fileDataPromise,\n",
              "      response: {\n",
              "        action: 'continue',\n",
              "      }\n",
              "    };\n",
              "\n",
              "    // Use a chunked sending to avoid message size limits. See b/62115660.\n",
              "    let position = 0;\n",
              "    do {\n",
              "      const length = Math.min(fileData.byteLength - position, MAX_PAYLOAD_SIZE);\n",
              "      const chunk = new Uint8Array(fileData, position, length);\n",
              "      position += length;\n",
              "\n",
              "      const base64 = btoa(String.fromCharCode.apply(null, chunk));\n",
              "      yield {\n",
              "        response: {\n",
              "          action: 'append',\n",
              "          file: file.name,\n",
              "          data: base64,\n",
              "        },\n",
              "      };\n",
              "\n",
              "      let percentDone = fileData.byteLength === 0 ?\n",
              "          100 :\n",
              "          Math.round((position / fileData.byteLength) * 100);\n",
              "      percent.textContent = `${percentDone}% done`;\n",
              "\n",
              "    } while (position < fileData.byteLength);\n",
              "  }\n",
              "\n",
              "  // All done.\n",
              "  yield {\n",
              "    response: {\n",
              "      action: 'complete',\n",
              "    }\n",
              "  };\n",
              "}\n",
              "\n",
              "scope.google = scope.google || {};\n",
              "scope.google.colab = scope.google.colab || {};\n",
              "scope.google.colab._files = {\n",
              "  _uploadFiles,\n",
              "  _uploadFilesContinue,\n",
              "};\n",
              "})(self);\n",
              "</script> "
            ]
          },
          "metadata": {}
        }
      ]
    },
    {
      "cell_type": "markdown",
      "source": [
        "**Setelah diunggah, data tersebut akan diekstrak dari zip to csv.**"
      ],
      "metadata": {
        "id": "xFpIx9ABgYZ4"
      }
    },
    {
      "cell_type": "code",
      "source": [
        "import zipfile\n",
        "import os\n",
        "\n",
        "# Menentukan nama file ZIP yang diunggah\n",
        "zip_file_name = 'Bike-sharing-dataset.zip'  # Ganti dengan nama file ZIP yang diunggah\n",
        "\n",
        "# Mengekstrak file ZIP\n",
        "with zipfile.ZipFile(zip_file_name, 'r') as zip_ref:\n",
        "    zip_ref.extractall('extracted_data')  # Ekstrak ke folder baru bernama 'extracted_data'\n",
        "\n",
        "# Menampilkan daftar file yang telah diekstrak\n",
        "print(os.listdir('extracted_data'))"
      ],
      "metadata": {
        "id": "MDN0nKachkKS"
      },
      "execution_count": null,
      "outputs": []
    },
    {
      "cell_type": "markdown",
      "source": [
        "**Setelah diekstrak, saya memanggil data agar ditampilkan pada notebook.**"
      ],
      "metadata": {
        "id": "neXt73sbhrHS"
      }
    },
    {
      "cell_type": "code",
      "source": [
        "# Membaca dataset dari file CSV yang telah diekstrak\n",
        "data = pd.read_csv('extracted_data/day.csv')\n",
        "\n",
        "# Memeriksa beberapa baris pertama data\n",
        "print(data.head())\n",
        "\n",
        "# Melihat informasi umum tentang dataset\n",
        "print(data.info())\n",
        "\n",
        "# Melihat statistik deskriptif\n",
        "print(data.describe())"
      ],
      "metadata": {
        "id": "RK7pG7Qnh6cO"
      },
      "execution_count": null,
      "outputs": []
    },
    {
      "cell_type": "code",
      "source": [
        "# Membaca dataset dari file CSV yang telah diekstrak\n",
        "data = pd.read_csv('extracted_data/hour.csv')\n",
        "\n",
        "# Memeriksa beberapa baris pertama data\n",
        "print(data.head())\n",
        "\n",
        "# Melihat informasi umum tentang dataset\n",
        "print(data.info())\n",
        "\n",
        "# Melihat statistik deskriptif\n",
        "print(data.describe())"
      ],
      "metadata": {
        "id": "TqkjBCMlmavP"
      },
      "execution_count": null,
      "outputs": []
    },
    {
      "cell_type": "markdown",
      "source": [
        "- Pada tahap ini saya mengunggah file terlebih dahulu, lalu diekstrak dari bentuk zip menjadi csv. Terakhir, saya melakukan pembacaa dataset agar mengetahui bagaimana tampilan data pada file day dan hour."
      ],
      "metadata": {
        "id": "5O7lAu9oGGTE"
      }
    },
    {
      "cell_type": "markdown",
      "source": [
        "## Data Wrangling"
      ],
      "metadata": {
        "id": "h_Sh51Xy8DC1"
      }
    },
    {
      "cell_type": "markdown",
      "metadata": {
        "id": "sXU2GBYu8DC1"
      },
      "source": [
        "### Gathering Data"
      ]
    },
    {
      "cell_type": "code",
      "source": [
        "import pandas as pd\n",
        "\n",
        "# Memuat data dari kedua CSV\n",
        "df_day = pd.read_csv('extracted_data/day.csv')\n",
        "df_hour = pd.read_csv('extracted_data/hour.csv')\n",
        "\n",
        "# Menggabungkan data berdasarkan kolom 'dteday'\n",
        "df_merged = pd.merge(df_day, df_hour, on='dteday')\n",
        "\n",
        "# Menampilkan beberapa baris pertama data yang digabungkan\n",
        "print(df_merged.head())"
      ],
      "metadata": {
        "id": "eTsZWAxHmHWm",
        "colab": {
          "base_uri": "https://localhost:8080/"
        },
        "outputId": "0db27921-977c-4988-8701-fa1e6bef40ae"
      },
      "execution_count": 102,
      "outputs": [
        {
          "output_type": "stream",
          "name": "stdout",
          "text": [
            "   instant_x      dteday  season_x  yr_x  mnth_x  holiday_x  weekday_x  \\\n",
            "0          1  2011-01-01         1     0       1          0          6   \n",
            "1          1  2011-01-01         1     0       1          0          6   \n",
            "2          1  2011-01-01         1     0       1          0          6   \n",
            "3          1  2011-01-01         1     0       1          0          6   \n",
            "4          1  2011-01-01         1     0       1          0          6   \n",
            "\n",
            "   workingday_x  weathersit_x    temp_x  ...  weekday_y  workingday_y  \\\n",
            "0             0             2  0.344167  ...          6             0   \n",
            "1             0             2  0.344167  ...          6             0   \n",
            "2             0             2  0.344167  ...          6             0   \n",
            "3             0             2  0.344167  ...          6             0   \n",
            "4             0             2  0.344167  ...          6             0   \n",
            "\n",
            "   weathersit_y  temp_y  atemp_y  hum_y  windspeed_y  casual_y  registered_y  \\\n",
            "0             1    0.24   0.2879   0.81          0.0         3            13   \n",
            "1             1    0.22   0.2727   0.80          0.0         8            32   \n",
            "2             1    0.22   0.2727   0.80          0.0         5            27   \n",
            "3             1    0.24   0.2879   0.75          0.0         3            10   \n",
            "4             1    0.24   0.2879   0.75          0.0         0             1   \n",
            "\n",
            "   cnt_y  \n",
            "0     16  \n",
            "1     40  \n",
            "2     32  \n",
            "3     13  \n",
            "4      1  \n",
            "\n",
            "[5 rows x 32 columns]\n"
          ]
        }
      ]
    },
    {
      "cell_type": "markdown",
      "source": [
        "**Insight:**\n",
        "- Ini merupakan langkah untuk membaca data menggunakan library.\n",
        "- Setelah data dikumpulkan, saya menggabungkan beberapa dataset."
      ],
      "metadata": {
        "id": "MMi6xGaDkbCi"
      }
    },
    {
      "cell_type": "markdown",
      "metadata": {
        "id": "FHSiqaZp8DC1"
      },
      "source": [
        "### Assessing Data"
      ]
    },
    {
      "cell_type": "markdown",
      "source": [
        "### Menilai data `df_day`"
      ],
      "metadata": {
        "id": "ZX7ol41eujqE"
      }
    },
    {
      "cell_type": "code",
      "source": [
        "df_day.info()\n",
        "\n",
        "# Mengonversi kolom 'dteday' ke format datetime\n",
        "df_day['dteday'] = pd.to_datetime(df_day['dteday'])\n",
        "\n",
        "# Memeriksa tipe data setelah konversi\n",
        "print(df_day.dtypes)"
      ],
      "metadata": {
        "id": "M0-s81_jqxup"
      },
      "execution_count": null,
      "outputs": []
    },
    {
      "cell_type": "code",
      "source": [
        "# Memuat dataset\n",
        "df_day = pd.read_csv('extracted_data/day.csv')\n",
        "\n",
        "# Memeriksa missing values\n",
        "missing_values = df_day.isnull().sum()\n",
        "print(\"Jumlah missing values per kolom:\")\n",
        "print(missing_values)"
      ],
      "metadata": {
        "id": "ax-3tEjc9Cj1"
      },
      "execution_count": null,
      "outputs": []
    },
    {
      "cell_type": "code",
      "source": [
        "# Memeriksa duplikasi\n",
        "duplicate_count = df_day.duplicated().sum()\n",
        "print(f\"Jumlah duplikasi dalam dataset: {duplicate_count}\")"
      ],
      "metadata": {
        "id": "DvGoWApLwSmr"
      },
      "execution_count": null,
      "outputs": []
    },
    {
      "cell_type": "markdown",
      "source": [
        "**Insight:**\n",
        "\n",
        "Dari hasil analisis awal terhadap dataset day.csv yang saya lakukan, saya menyimpulkan bahwa:\n",
        "- **Tidak Ada Missing Values atau Duplikasi:** Dataset bersih tanpa missing values atau data duplikat, sehingga siap untuk analisis lebih lanjut tanpa pembersihan tambahan."
      ],
      "metadata": {
        "id": "udAFjvAM3OTq"
      }
    },
    {
      "cell_type": "markdown",
      "source": [
        "### Menilai data `df_hour`"
      ],
      "metadata": {
        "id": "7ctZ4VuK0FFM"
      }
    },
    {
      "cell_type": "code",
      "source": [
        "df_hour.info()"
      ],
      "metadata": {
        "id": "IPj3ugOH0KnL"
      },
      "execution_count": null,
      "outputs": []
    },
    {
      "cell_type": "code",
      "source": [
        "# Memuat dataset\n",
        "df_hour = pd.read_csv('extracted_data/hour.csv')\n",
        "\n",
        "# Memeriksa missing values\n",
        "missing_values = df_hour.isnull().sum()\n",
        "print(\"Jumlah missing values per kolom:\")\n",
        "print(missing_values)"
      ],
      "metadata": {
        "id": "mj5CdFv90OqJ"
      },
      "execution_count": null,
      "outputs": []
    },
    {
      "cell_type": "code",
      "source": [
        "# Memeriksa duplikasi\n",
        "duplicate_count = df_hour.duplicated().sum()\n",
        "print(f\"Jumlah duplikasi dalam dataset: {duplicate_count}\")"
      ],
      "metadata": {
        "id": "ItpTchrc0l3x"
      },
      "execution_count": null,
      "outputs": []
    },
    {
      "cell_type": "markdown",
      "source": [
        "**Insight:**\n",
        "\n",
        "Dari hasil analisis awal terhadap dataset hour.csv yang saya lakukan, saya menyimpulkan bahwa:\n",
        "- **Tidak Ada Missing Values atau Duplikasi:** Dataset bersih tanpa missing values atau data duplikat, sehingga siap untuk analisis lebih lanjut tanpa pembersihan tambahan.\n",
        "\n"
      ],
      "metadata": {
        "id": "ux7p5TqlzeoT"
      }
    },
    {
      "cell_type": "markdown",
      "metadata": {
        "id": "EhN5R4hr8DC1"
      },
      "source": [
        "### Cleaning Data"
      ]
    },
    {
      "cell_type": "markdown",
      "source": [
        "### Membersihkan missing value dan duplikasi `df_day`"
      ],
      "metadata": {
        "id": "ecQfbtl-5mKj"
      }
    },
    {
      "cell_type": "markdown",
      "source": [
        "- **Dropping:** Menghapus baris atau kolom yang mengandung missing value."
      ],
      "metadata": {
        "id": "upZCbJYM6QY8"
      }
    },
    {
      "cell_type": "code",
      "source": [
        "import pandas as pd\n",
        "\n",
        "df = pd.read_csv('extracted_data/day.csv')\n",
        "df.dropna(axis=0, inplace=True)"
      ],
      "metadata": {
        "id": "jVnYpprE9Evz"
      },
      "execution_count": null,
      "outputs": []
    },
    {
      "cell_type": "markdown",
      "source": [
        "- **Memperbaiki format data**"
      ],
      "metadata": {
        "id": "1sCpmCOO_fpo"
      }
    },
    {
      "cell_type": "code",
      "source": [
        "# Mengonversi kolom 'dteday' ke format datetime\n",
        "df_day['dteday'] = pd.to_datetime(df_day['dteday'])\n",
        "\n",
        "# Memeriksa tipe data setelah konversi\n",
        "print(df_day.dtypes)"
      ],
      "metadata": {
        "id": "C-EjZfL3_grW"
      },
      "execution_count": null,
      "outputs": []
    },
    {
      "cell_type": "markdown",
      "source": [
        "- **Mengatasi duplicate data**"
      ],
      "metadata": {
        "id": "dkySY7aW9gl3"
      }
    },
    {
      "cell_type": "code",
      "source": [
        "df_no_duplicates = df.drop_duplicates()\n",
        "print(df_no_duplicates)"
      ],
      "metadata": {
        "id": "2KVxCe_78Slm"
      },
      "execution_count": null,
      "outputs": []
    },
    {
      "cell_type": "markdown",
      "source": [
        "**Insight**\n",
        "- Kode tersebut menghapus baris duplikat dari dataset `df` menggunakan `drop_duplicates()`, lalu mencetak dataframe yang terdiri dari 731 baris dan 16 kolom, yang mencakup informasi seperti tanggal, musim, kondisi cuaca, suhu, kelembaban, dan jumlah pengguna sepeda."
      ],
      "metadata": {
        "id": "kJC4tse49ZnX"
      }
    },
    {
      "cell_type": "markdown",
      "source": [
        "### Membersihkan missing value dan duplikasi `df_hour`"
      ],
      "metadata": {
        "id": "665br3Of95TG"
      }
    },
    {
      "cell_type": "markdown",
      "source": [
        "- **Dropping:** Menghapus baris atau kolom yang mengandung missing value."
      ],
      "metadata": {
        "id": "7xiGKnbn-T6g"
      }
    },
    {
      "cell_type": "code",
      "source": [
        "import pandas as pd\n",
        "\n",
        "df = pd.read_csv('extracted_data/hour.csv')\n",
        "df.dropna(axis=0, inplace=True)"
      ],
      "metadata": {
        "id": "8n587HNB-LKQ"
      },
      "execution_count": null,
      "outputs": []
    },
    {
      "cell_type": "markdown",
      "source": [
        "- **Memperbaiki format data**"
      ],
      "metadata": {
        "id": "4lK49O0H-827"
      }
    },
    {
      "cell_type": "code",
      "source": [
        "# Mengonversi kolom 'dteday' ke format datetime\n",
        "df_hour['dteday'] = pd.to_datetime(df_hour['dteday'])\n",
        "\n",
        "# Memeriksa tipe data setelah konversi\n",
        "print(df_hour.dtypes)"
      ],
      "metadata": {
        "id": "fyc3qqMQ_TES"
      },
      "execution_count": null,
      "outputs": []
    },
    {
      "cell_type": "markdown",
      "source": [
        "- **Mengatasi duplicate data**"
      ],
      "metadata": {
        "id": "qPNR5BC_-cPN"
      }
    },
    {
      "cell_type": "code",
      "source": [
        "df_no_duplicates = df.drop_duplicates()\n",
        "print(df_no_duplicates)"
      ],
      "metadata": {
        "id": "JijwLK27-WFK"
      },
      "execution_count": null,
      "outputs": []
    },
    {
      "cell_type": "markdown",
      "source": [
        "**Insight**\n",
        "- Kode di atas menghapus duplikasi dari dataset `df` dan mencetak hasilnya. Dataset tersebut berisi 17 kolom dan 17.379 baris. Setiap baris mewakili data penggunaan sepeda per jam, termasuk informasi seperti tanggal, musim, jam, suhu, kelembaban, kecepatan angin, dan jumlah pengguna sepeda (baik pengguna kasual maupun terdaftar). Kolom `cnt` menunjukkan total jumlah pengguna sepeda pada jam tertentu."
      ],
      "metadata": {
        "id": "A1ZrZXnq-f9V"
      }
    },
    {
      "cell_type": "markdown",
      "metadata": {
        "id": "gp-Y6wU38DC1"
      },
      "source": [
        "## Exploratory Data Analysis (EDA)"
      ]
    },
    {
      "cell_type": "markdown",
      "metadata": {
        "id": "MW7WF2kr8DC1"
      },
      "source": [
        "### Explore `df_day`"
      ]
    },
    {
      "cell_type": "markdown",
      "source": [
        "- **Memeriksa data**"
      ],
      "metadata": {
        "id": "lXZJxtsrC-d6"
      }
    },
    {
      "cell_type": "code",
      "source": [
        "# Memeriksa data\n",
        "print(data.info()) # Changed 'data_day' to 'data'\n",
        "print(data.head())"
      ],
      "metadata": {
        "id": "kJWxrYTIyORi"
      },
      "execution_count": null,
      "outputs": []
    },
    {
      "cell_type": "markdown",
      "source": [
        "- **Sample all rows**"
      ],
      "metadata": {
        "id": "pjO-cvW9DZHJ"
      }
    },
    {
      "cell_type": "code",
      "source": [
        "df_day.sample(frac=1) # Sample all rows (100%) from the DataFrame"
      ],
      "metadata": {
        "id": "kW_xLPzhwNTm"
      },
      "execution_count": null,
      "outputs": []
    },
    {
      "cell_type": "markdown",
      "source": [
        "- **Statistik Deskriptif**"
      ],
      "metadata": {
        "id": "g2WtL6YZDfAy"
      }
    },
    {
      "cell_type": "code",
      "source": [
        "# Descriptive statistics untuk DAY\n",
        "day_stats = df_day.describe(include='all') # Changed 'data_day' to 'df_day'\n",
        "print(day_stats)"
      ],
      "metadata": {
        "id": "WfVpAYY3yuA6"
      },
      "execution_count": null,
      "outputs": []
    },
    {
      "cell_type": "markdown",
      "source": [
        "- **Memeriksa unique values**"
      ],
      "metadata": {
        "id": "qtkcfxtKDox5"
      }
    },
    {
      "cell_type": "code",
      "source": [
        "# Apply unique() to a specific column of the DataFrame.\n",
        "df_day['dteday'].unique()\n",
        "\n",
        "# If you want to see unique values across all columns you can use:\n",
        "df_day.apply(pd.Series.unique)"
      ],
      "metadata": {
        "id": "--vLc9GYzSHk"
      },
      "execution_count": null,
      "outputs": []
    },
    {
      "cell_type": "markdown",
      "source": [
        "- **Menampilkan Histogram**"
      ],
      "metadata": {
        "id": "8rNmmUeRD_mq"
      }
    },
    {
      "cell_type": "code",
      "source": [
        "df_day.hist()"
      ],
      "metadata": {
        "id": "XfODQ7c_zvfb"
      },
      "execution_count": null,
      "outputs": []
    },
    {
      "cell_type": "code",
      "source": [
        "# Apply hist() method to the DataFrame columns.\n",
        "df_day[['temp', 'atemp', 'hum', 'windspeed', 'cnt']].hist(bins=30, figsize=(10, 8)) # Changed 'data_day' to 'df_day'\n",
        "plt.suptitle('Histogram of DAY Data')\n",
        "plt.show()"
      ],
      "metadata": {
        "id": "FpXBi3cs1UyU"
      },
      "execution_count": null,
      "outputs": []
    },
    {
      "cell_type": "code",
      "source": [
        "import matplotlib.pyplot as plt\n",
        "import seaborn as sns\n",
        "\n",
        "# Histogram untuk distribusi kolom 'cnt'\n",
        "plt.figure(figsize=(8, 6))\n",
        "sns.histplot(df['cnt'], kde=True)\n",
        "plt.title('Distribusi Kolom cnt')\n",
        "plt.xlabel('Jumlah Penyewaan (cnt)')\n",
        "plt.ylabel('Frekuensi')\n",
        "plt.show()"
      ],
      "metadata": {
        "id": "nhb7DgSh2InS"
      },
      "execution_count": null,
      "outputs": []
    },
    {
      "cell_type": "markdown",
      "source": [
        "- **Menampilkan Korelasi**"
      ],
      "metadata": {
        "id": "cXmWzfi4ENIp"
      }
    },
    {
      "cell_type": "code",
      "source": [
        "# Korelasi untuk DAY\n",
        "day_corr = df_day.corr() # Changed 'data_day' to 'df_day'\n",
        "plt.figure(figsize=(10, 8))\n",
        "sns.heatmap(day_corr, annot=True, fmt=\".2f\", cmap='coolwarm')\n",
        "plt.title('Correlation Heatmap for DAY Data')\n",
        "plt.show()"
      ],
      "metadata": {
        "id": "n-iFDlNjz6pE"
      },
      "execution_count": null,
      "outputs": []
    },
    {
      "cell_type": "markdown",
      "source": [
        "- **Menghitung Korelasi**"
      ],
      "metadata": {
        "id": "gHuB3bQnHIiS"
      }
    },
    {
      "cell_type": "code",
      "source": [
        "import matplotlib.pyplot as plt\n",
        "import seaborn as sns\n",
        "\n",
        "# Menghitung korelasi Pearson antara temp dan cnt untuk df_day\n",
        "correlation = df_day['temp'].corr(df_day['cnt'])\n",
        "print(f\"Korelasi antara suhu (temp) dan jumlah penyewaan (cnt) pada dataset DAY: {correlation}\")\n",
        "\n",
        "# Scatter plot untuk visualisasi\n",
        "plt.figure(figsize=(8, 6))\n",
        "sns.scatterplot(x=df_day['temp'], y=df_day['cnt'])\n",
        "plt.title('Hubungan antara Suhu (temp) dan Jumlah Penyewaan (cnt) pada Dataset DAY')\n",
        "plt.xlabel('Suhu (temp)')\n",
        "plt.ylabel('Jumlah Penyewaan (cnt)')\n",
        "plt.show()\n",
        "\n",
        "# Membagi data menjadi hari kerja dan hari libur\n",
        "df_workingday = df_day[df_day['workingday'] == 1]\n",
        "df_holiday = df_day[df_day['workingday'] == 0]\n",
        "\n",
        "# Menghitung korelasi Pearson antara suhu (temp) dan jumlah penyewaan (cnt) pada hari kerja\n",
        "correlation_workingday = df_workingday['temp'].corr(df_workingday['cnt'])\n",
        "print(f\"Korelasi antara suhu (temp) dan jumlah penyewaan (cnt) pada hari kerja: {correlation_workingday}\")\n",
        "\n",
        "# Menghitung korelasi Pearson antara suhu (temp) dan jumlah penyewaan (cnt) pada hari libur\n",
        "correlation_holiday = df_holiday['temp'].corr(df_holiday['cnt'])\n",
        "print(f\"Korelasi antara suhu (temp) dan jumlah penyewaan (cnt) pada hari libur: {correlation_holiday}\")\n",
        "\n",
        "# Membuat scatter plot untuk hari kerja\n",
        "plt.figure(figsize=(8, 6))\n",
        "sns.scatterplot(x=df_workingday['temp'], y=df_workingday['cnt'])\n",
        "plt.title('Hubungan antara Suhu (temp) dan Jumlah Penyewaan (cnt) pada Hari Kerja')\n",
        "plt.xlabel('Suhu (temp)')\n",
        "plt.ylabel('Jumlah Penyewaan (cnt)')\n",
        "plt.show()\n",
        "\n",
        "# Membuat scatter plot untuk hari libur\n",
        "plt.figure(figsize=(8, 6))\n",
        "sns.scatterplot(x=df_holiday['temp'], y=df_holiday['cnt'])\n",
        "plt.title('Hubungan antara Suhu (temp) dan Jumlah Penyewaan (cnt) pada Hari Libur')\n",
        "plt.xlabel('Suhu (temp)')\n",
        "plt.ylabel('Jumlah Penyewaan (cnt)')\n",
        "plt.show()"
      ],
      "metadata": {
        "id": "sm78uD_M2R3K"
      },
      "execution_count": null,
      "outputs": []
    },
    {
      "cell_type": "markdown",
      "source": [
        "**Insight:**\n",
        "\n",
        "Berdasarkan EDA (Exploratory Data Analysis) yang dilakukan terhadap *dataset* `df_day`, berikut beberapa kesimpulan yang dapat diambil:\n",
        "\n",
        "1. **Distribusi Kolom `cnt` (Jumlah Penyewaan):**\n",
        "   Distribusi jumlah penyewaan (`cnt`) menunjukkan pola distribusi yang cenderung *right-skewed*, di mana sebagian besar nilai penyewaan ada di kisaran lebih rendah, dengan beberapa nilai ekstrem di bagian ekor kanan.\n",
        "\n",
        "2. **Statistik Deskriptif:**\n",
        "   - **Suhu (`temp`) dan Suhu Terasa (`atemp`):** Suhu rata-rata harian berada di sekitar 0.49, dengan kisaran minimum 0.06 hingga maksimum 0.86.\n",
        "   - **Kelembapan (`hum`)** dan **kecepatan angin (`windspeed`)** menunjukkan distribusi yang normal dengan kelembapan rata-rata sekitar 0.62 dan kecepatan angin rata-rata sekitar 0.19.\n",
        "   - **Jumlah penyewaan (`cnt`)** bervariasi, dengan nilai minimum 22 dan maksimum 8714. Nilai rata-rata penyewaan harian adalah sekitar 4504.\n",
        "\n",
        "3. **Korelasi Antar Variabel:**\n",
        "  - **Korelasi Positif:** Terdapat korelasi positif antara suhu `(temp)` dan jumlah penyewaan `(cnt)`, yang menunjukkan bahwa peningkatan suhu berhubungan dengan peningkatan jumlah penyewaan sepeda.\n",
        "\n",
        "  - **Korelasi dengan Variabel Lain:** Variabel kelembapan `(hum)` dan kecepatan angin `(windspeed)` menunjukkan korelasi yang lebih rendah dengan jumlah penyewaan, menandakan bahwa pengaruhnya tidak sekuat suhu.\n",
        "\n",
        "  - **Hari Kerja vs. Hari Libur:** Korelasi suhu terhadap jumlah penyewaan dapat bervariasi antara hari kerja dan hari libur. Jika korelasi pada hari kerja lebih tinggi, ini menunjukkan bahwa pengguna cenderung menyewa sepeda lebih banyak saat suhu nyaman pada hari kerja.\n",
        "\n",
        "4. Visualisasi Korelasi:\n",
        "  - Scatter Plot: Menampilkan pola jelas bahwa jumlah penyewaan meningkat seiring dengan peningkatan suhu.\n",
        "Heatmap Korelasi: Meskipun tidak ditampilkan, heatmap menunjukkan bahwa variabel seperti suhu `(temp)` dan suhu teradaptasi `(atemp)` memiliki korelasi kuat dengan jumlah penyewaan, sedangkan variabel seperti hari libur `(holiday)` dan kecepatan angin `(windspeed)` memiliki kontribusi yang lebih rendah.\n",
        "\n",
        "5. **Visualisasi Histogram:**\n",
        "   - Histogram dari variabel-variabel seperti `temp`, `atemp`, `hum`, `windspeed`, dan `cnt` menunjukkan distribusi yang cukup teratur, dengan beberapa variabel seperti `cnt` menunjukkan distribusi yang skewed.\n",
        "\n",
        "Secara keseluruhan, suhu merupakan faktor yang paling signifikan dalam memengaruhi jumlah penyewaan. Pemahaman ini dapat digunakan untuk merumuskan strategi marketing yang lebih efektif. Misalnya, pada hari kerja ketika suhu nyaman, promosi dapat dilakukan untuk menarik lebih banyak penyewa. Di sisi lain, pada hari dengan cuaca buruk, dapat dipertimbangkan untuk memberikan diskon atau insentif lain untuk menarik penyewa yang mungkin ragu untuk menggunakan sepeda."
      ],
      "metadata": {
        "id": "th_Lzl2Fkj9O"
      }
    },
    {
      "cell_type": "markdown",
      "source": [
        "### Explore `df_hour`"
      ],
      "metadata": {
        "id": "rV4Grj73CnVv"
      }
    },
    {
      "cell_type": "markdown",
      "source": [
        "- **Memeriksa data**"
      ],
      "metadata": {
        "id": "V4tzZuWpEiZX"
      }
    },
    {
      "cell_type": "code",
      "source": [
        "# Memeriksa data\n",
        "print(data.info()) # Changed 'data_hour' to 'data'\n",
        "print(data.head())"
      ],
      "metadata": {
        "id": "BiSvG-FQC7hr"
      },
      "execution_count": null,
      "outputs": []
    },
    {
      "cell_type": "markdown",
      "source": [
        "- **Sample all rows**"
      ],
      "metadata": {
        "id": "jQuxH2seEv13"
      }
    },
    {
      "cell_type": "code",
      "source": [
        "df_hour.sample(frac=1) # Sample all rows (100%) from the DataFrame"
      ],
      "metadata": {
        "id": "GJRWu3L-E1wc"
      },
      "execution_count": null,
      "outputs": []
    },
    {
      "cell_type": "markdown",
      "source": [
        "- **Statistik Deskriptif**"
      ],
      "metadata": {
        "id": "9LXFlpSyE_PH"
      }
    },
    {
      "cell_type": "code",
      "source": [
        "# Descriptive statistics untuk HOUR\n",
        "hour_stats = df_hour.describe(include='all') # Changed 'data_hour' to 'df_hour'\n",
        "print(hour_stats)"
      ],
      "metadata": {
        "id": "tNztNaUEFEaO"
      },
      "execution_count": null,
      "outputs": []
    },
    {
      "cell_type": "markdown",
      "source": [
        "- **Memeriksa unique values**"
      ],
      "metadata": {
        "id": "Dp_apOggGEis"
      }
    },
    {
      "cell_type": "code",
      "source": [
        "# Memeriksa nilai unik di kolom 'dteday'\n",
        "df_hour['dteday'].unique()\n",
        "\n",
        "# Memeriksa nilai unik di seluruh kolom dari DataFrame 'df_hour'\n",
        "df_hour.apply(pd.Series.unique)"
      ],
      "metadata": {
        "id": "dYELQKwrFZme"
      },
      "execution_count": null,
      "outputs": []
    },
    {
      "cell_type": "markdown",
      "source": [
        "- **Menampilkan Histogram**"
      ],
      "metadata": {
        "id": "WGWU7LaNGxFN"
      }
    },
    {
      "cell_type": "code",
      "source": [
        "df_hour.hist()\n",
        "\n",
        "# Apply hist() method to the DataFrame columns.\n",
        "df_hour[['temp', 'atemp', 'hum', 'windspeed', 'cnt']].hist(bins=30, figsize=(10, 8))\n",
        "plt.suptitle('Histogram of Hour Data')\n",
        "plt.show()\n",
        "\n",
        "# Histogram untuk distribusi kolom 'cnt'\n",
        "plt.figure(figsize=(8, 6))\n",
        "sns.histplot(df_hour['cnt'], kde=True)\n",
        "plt.title('Distribusi Kolom cnt')\n",
        "plt.xlabel('Jumlah Penyewaan (cnt)')\n",
        "plt.ylabel('Frekuensi')\n",
        "plt.show()"
      ],
      "metadata": {
        "id": "TvD7EhK-GTqv"
      },
      "execution_count": null,
      "outputs": []
    },
    {
      "cell_type": "markdown",
      "source": [
        "- **Menampilkan Korelasi**"
      ],
      "metadata": {
        "id": "jbT1nFnzHBh5"
      }
    },
    {
      "cell_type": "code",
      "source": [
        "# Korelasi untuk Hour\n",
        "hour_corr = df_hour.corr()\n",
        "plt.figure(figsize=(10, 8))\n",
        "sns.heatmap(hour_corr, annot=True, fmt=\".2f\", cmap='coolwarm')\n",
        "plt.title('Correlation Heatmap for Hour Data')\n",
        "plt.show()"
      ],
      "metadata": {
        "id": "X2y_NhGnHQJy"
      },
      "execution_count": null,
      "outputs": []
    },
    {
      "cell_type": "markdown",
      "source": [
        "- **Menghitung Korelasi**"
      ],
      "metadata": {
        "id": "wR04aIelHWW-"
      }
    },
    {
      "cell_type": "code",
      "source": [
        "# Menghitung korelasi Pearson antara temp dan cnt untuk df_hour\n",
        "correlation = df_hour['temp'].corr(df_hour['cnt'])\n",
        "print(f\"Korelasi antara suhu (temp) dan jumlah penyewaan (cnt): {correlation}\")\n",
        "\n",
        "# Scatter plot untuk visualisasi\n",
        "plt.figure(figsize=(8, 6))\n",
        "sns.scatterplot(x=df_hour['temp'], y=df_hour['cnt'])\n",
        "plt.title('Hubungan antara Suhu (temp) dan Jumlah Penyewaan (cnt)')\n",
        "plt.xlabel('Suhu (temp)')\n",
        "plt.ylabel('Jumlah Penyewaan (cnt)')\n",
        "plt.show()\n",
        "\n",
        "# Membagi data menjadi hari kerja dan hari libur\n",
        "df_workingday = df_hour[df_hour['workingday'] == 1]\n",
        "df_holiday = df_hour[df_hour['workingday'] == 0]\n",
        "\n",
        "# Menghitung korelasi Pearson antara suhu (temp) dan jumlah penyewaan (cnt) pada hari kerja\n",
        "correlation_workingday = df_workingday['temp'].corr(df_workingday['cnt'])\n",
        "print(f\"Korelasi antara suhu (temp) dan jumlah penyewaan (cnt) pada hari kerja: {correlation_workingday}\")\n",
        "\n",
        "# Menghitung korelasi Pearson antara suhu (temp) dan jumlah penyewaan (cnt) pada hari libur\n",
        "correlation_holiday = df_holiday['temp'].corr(df_holiday['cnt'])\n",
        "print(f\"Korelasi antara suhu (temp) dan jumlah penyewaan (cnt) pada hari libur: {correlation_holiday}\")\n",
        "\n",
        "# Membuat scatter plot untuk hari kerja\n",
        "plt.figure(figsize=(8, 6))\n",
        "sns.scatterplot(x=df_workingday['temp'], y=df_workingday['cnt'])\n",
        "plt.title('Hubungan antara Suhu (temp) dan Jumlah Penyewaan (cnt) pada Hari Kerja')\n",
        "plt.xlabel('Suhu (temp)')\n",
        "plt.ylabel('Jumlah Penyewaan (cnt)')\n",
        "plt.show()\n",
        "\n",
        "# Membuat scatter plot untuk hari libur\n",
        "plt.figure(figsize=(8, 6))\n",
        "sns.scatterplot(x=df_holiday['temp'], y=df_holiday['cnt'])\n",
        "plt.title('Hubungan antara Suhu (temp) dan Jumlah Penyewaan (cnt) pada Hari Libur')\n",
        "plt.xlabel('Suhu (temp)')\n",
        "plt.ylabel('Jumlah Penyewaan (cnt)')\n",
        "plt.show()"
      ],
      "metadata": {
        "id": "rNpiUT6xHaxF"
      },
      "execution_count": null,
      "outputs": []
    },
    {
      "cell_type": "markdown",
      "source": [
        "**Insight**\n",
        "Berikut adalah kesimpulan dari eksplorasi data (EDA) pada dataset `df_hour`, berdasarkan hasil yang diperoleh dari pemantauan data, statistik deskriptif, histogram, dan analisis korelasi.\n",
        "\n",
        "### 1. Memeriksa Data\n",
        "- Dataset `df_hour` terdiri dari 17 kolom dan 17.379 entri.\n",
        "- Kolom-kolom yang tersedia mencakup informasi waktu (seperti `dteday`, `season`, `yr`, `mnth`, `hr`), kondisi cuaca (`holiday`, `weekday`, `workingday`, `weathersit`), serta data terkait suhu (`temp`, `atemp`), kelembaban (`hum`), kecepatan angin (`windspeed`), dan jumlah penyewaan (`cnt`).\n",
        "- Tidak ada nilai yang hilang (non-null) dalam dataset, yang menunjukkan data bersih untuk analisis lebih lanjut.\n",
        "\n",
        "### 2. Statistik Deskriptif\n",
        "- Rata-rata jumlah penyewaan (`cnt`) adalah sekitar 189, dengan minimum 1 dan maksimum 977.\n",
        "- Suhu rata-rata (`temp`) dalam dataset adalah 0.497 (dalam skala tertentu, biasanya diukur antara 0-1).\n",
        "- Rata-rata kelembaban (`hum`) adalah 0.627, dan rata-rata kecepatan angin (`windspeed`) adalah 0.190.\n",
        "- Terdapat variabilitas yang cukup besar dalam kolom jumlah penyewaan, terutama dengan deviasi standar 181.39.\n",
        "\n",
        "### 3. Histogram\n",
        "- Histogram untuk kolom `cnt`, `temp`, `atemp`, `hum`, dan `windspeed` menunjukkan distribusi yang bervariasi:\n",
        "  - Distribusi `cnt` menunjukkan puncak dengan banyak nilai rendah dan jumlah penyewaan yang lebih sedikit untuk nilai yang lebih tinggi.\n",
        "  - Distribusi suhu cenderung simetris, dengan sebagian besar nilai berada di kisaran tengah.\n",
        "  - Kelembaban dan kecepatan angin memiliki distribusi yang mirip, dengan kebanyakan data terdistribusi di kisaran rendah.\n",
        "\n",
        "### 4. Korelasi\n",
        "- **Korelasi antara `temp` dan `cnt`:** Terdapat hubungan positif yang signifikan antara suhu (`temp`) dan jumlah penyewaan (`cnt`) dengan nilai korelasi sekitar 0.57. Ini menunjukkan bahwa peningkatan suhu cenderung berhubungan dengan peningkatan jumlah penyewaan.\n",
        "- **Korelasi berdasarkan jenis hari:**\n",
        "  - Pada hari kerja, korelasi antara suhu dan jumlah penyewaan adalah lebih tinggi (0.66) dibandingkan pada hari libur (0.49), menunjukkan bahwa suhu lebih berpengaruh terhadap jumlah penyewaan pada hari kerja.\n",
        "- **Visualisasi Scatter Plot:** Scatter plot untuk hari kerja menunjukkan distribusi yang lebih jelas antara suhu dan jumlah penyewaan dibandingkan dengan hari libur, yang mungkin menunjukkan perbedaan dalam perilaku pengguna di hari kerja versus hari libur.\n",
        "\n",
        "Secara keseluruhan, suhu berpengaruh signifikan terhadap jumlah penyewaan sepeda, terutama pada hari kerja. Data menunjukkan potensi untuk strategi pemasaran yang lebih efektif guna meningkatkan penyewaan sepeda saat suhu meningkat, karena pengguna cenderung lebih memilih menyewa sepeda saat cuaca hangat. Ini menunjukkan pentingnya memperhatikan kondisi cuaca dalam perencanaan dan promosi layanan penyewaan sepeda."
      ],
      "metadata": {
        "id": "CGr98_mKLeoN"
      }
    },
    {
      "cell_type": "markdown",
      "source": [
        "### Explore mean() method `df_day` and `df_hour`"
      ],
      "metadata": {
        "id": "A-ESuVGwN4TU"
      }
    },
    {
      "cell_type": "code",
      "source": [
        "# Menghitung rata-rata suhu dan jumlah penyewaan per kategori\n",
        "mean_workingday = df_workingday.groupby('workingday')[['temp', 'cnt']].mean().reset_index()\n",
        "mean_holiday = df_holiday.groupby('workingday')[['temp', 'cnt']].mean().reset_index()\n",
        "\n",
        "# Set style\n",
        "sns.set(style=\"whitegrid\")\n",
        "\n",
        "# Menambahkan offset untuk membuat bar bersanding\n",
        "bar_width = 0.35  # Lebar bar\n",
        "# Since we are plotting for working day and holiday, we need two tick locations\n",
        "index = np.arange(2)  # Indeks posisi untuk kategori\n",
        "\n",
        "# Bar plot untuk hari kerja\n",
        "fig, ax1 = plt.subplots(figsize=(10, 6))\n",
        "\n",
        "# Plot untuk 'cnt' (Jumlah Penyewaan) dengan warna biru\n",
        "# Use index[0] to position the bar for working day\n",
        "bars1 = ax1.bar(index[0] - bar_width / 2, mean_workingday['cnt'], bar_width, color='blue', label='Jumlah Penyewaan', alpha=0.6)\n",
        "\n",
        "# Membuat sumbu y kedua untuk 'temp' (Suhu)\n",
        "ax2 = ax1.twinx()\n",
        "# Use index[0] to position the bar for working day\n",
        "bars2 = ax2.bar(index[0] + bar_width / 2, mean_workingday['temp'], bar_width, color='orange', label='Suhu (temp)', alpha=0.9)\n",
        "\n",
        "# Menambahkan label, judul, dan legend\n",
        "plt.title('Rata-rata Suhu dan Jumlah Penyewaan pada Hari Kerja', fontsize=16)\n",
        "ax1.set_xlabel('Hari Kerja', fontsize=14)\n",
        "ax1.set_ylabel('Jumlah Penyewaan', fontsize=14)\n",
        "ax2.set_ylabel('Suhu (temp)', fontsize=14)\n",
        "\n",
        "# Modifikasi label pada sumbu x\n",
        "ax1.set_xticks(index)  # Set tick positions\n",
        "ax1.set_xticklabels(['Hari Libur', 'Hari Kerja'])  # Set tick labels\n",
        "\n",
        "# Menambahkan legend\n",
        "ax1.legend(loc='upper left')\n",
        "ax2.legend(loc='upper right')\n",
        "\n",
        "# Menambahkan nilai pada bar\n",
        "for bar in bars1:\n",
        "    yval = bar.get_height()\n",
        "    ax1.text(bar.get_x() + bar.get_width() / 2, yval, int(yval), ha='center', va='bottom')\n",
        "\n",
        "for bar in bars2:\n",
        "    yval = bar.get_height()\n",
        "    ax2.text(bar.get_x() + bar.get_width() / 2, yval, int(yval), ha='center', va='bottom')\n",
        "\n",
        "# Tampilkan plot\n",
        "plt.show()\n",
        "\n",
        "# Bar plot untuk hari libur\n",
        "fig, ax1 = plt.subplots(figsize=(10, 6))\n",
        "\n",
        "# Plot untuk 'cnt' (Jumlah Penyewaan) dengan warna hijau\n",
        "# Use index[1] to position the bar for holiday\n",
        "bars1 = ax1.bar(index[1] - bar_width / 2, mean_holiday['cnt'], bar_width, color='blue', label='Jumlah Penyewaan', alpha=0.6)\n",
        "\n",
        "# Membuat sumbu y kedua untuk 'temp' (Suhu)\n",
        "ax2 = ax1.twinx()\n",
        "# Use index[1] to position the bar for holiday\n",
        "bars2 = ax2.bar(index[1] + bar_width / 2, mean_holiday['temp'], bar_width, color='orange', label='Suhu (temp)', alpha=0.9)\n",
        "\n",
        "# Menambahkan label, judul, dan legend\n",
        "plt.title('Rata-rata Suhu dan Jumlah Penyewaan pada Hari Libur', fontsize=16)\n",
        "ax1.set_xlabel('Hari Libur', fontsize=14)\n",
        "ax1.set_ylabel('Jumlah Penyewaan', fontsize=14)\n",
        "ax2.set_ylabel('Suhu (temp)', fontsize=14)\n",
        "\n",
        "# Modifikasi label pada sumbu"
      ],
      "metadata": {
        "id": "bbxsWO6AYlg4"
      },
      "execution_count": null,
      "outputs": []
    },
    {
      "cell_type": "markdown",
      "metadata": {
        "id": "zsyZjqak8DC2"
      },
      "source": [
        "## Visualization & Explanatory Analysis"
      ]
    },
    {
      "cell_type": "markdown",
      "metadata": {
        "id": "HZxOiQ6n8DC2"
      },
      "source": [
        "### Pertanyaan 1: \"Bagaimana pengaruh suhu (temp) terhadap jumlah total sewa (cnt) pada hari kerja dibandingkan dengan hari libur?\"\n"
      ]
    },
    {
      "cell_type": "markdown",
      "source": [
        "**Langkah 1: Membuat DataFrame untuk Analisis**"
      ],
      "metadata": {
        "id": "EkDLs6GidHH7"
      }
    },
    {
      "cell_type": "code",
      "execution_count": null,
      "metadata": {
        "id": "1swJUdAD8DC2"
      },
      "outputs": [],
      "source": [
        "# Asumsikan df adalah DataFrame yang telah dimuat dengan data\n",
        "# df = pd.read_csv(\"your_data.csv\") # Uncomment this line to load your dataset\n",
        "\n",
        "# Memisahkan data berdasarkan hari kerja dan hari libur\n",
        "workdays_df = df[df['holiday'] == 0]\n",
        "holidays_df = df[df['holiday'] == 1]\n",
        "\n",
        "# Menghitung rata-rata suhu dan jumlah sewa\n",
        "summary_df = df.groupby('holiday').agg({'temp': 'mean', 'cnt': 'mean'}).reset_index()\n",
        "summary_df['holiday'] = summary_df['holiday'].map({0: 'Hari Kerja', 1: 'Hari Libur'})\n",
        "\n",
        "# Menampilkan DataFrame\n",
        "summary_df"
      ]
    },
    {
      "source": [
        "# @title Average Temperature on Holidays vs. Non-Holidays\n",
        "\n",
        "import matplotlib.pyplot as plt\n",
        "import numpy as np\n",
        "\n",
        "holiday_temps = [0.46640000000000004, 0.4978932401208603]\n",
        "holidays = ['Hari Libur', 'Hari Kerja']\n",
        "\n",
        "plt.bar(holidays, holiday_temps)\n",
        "plt.xlabel('Holiday')\n",
        "plt.ylabel('Average Temperature')\n",
        "_ = plt.title('Average Temperature on Holidays vs. Non-Holidays')"
      ],
      "cell_type": "code",
      "execution_count": null,
      "outputs": [],
      "metadata": {
        "cellView": "form",
        "id": "pywmzSU9e8Sj"
      }
    },
    {
      "cell_type": "markdown",
      "source": [
        "**Langkah 2: Membuat Visualisasi**"
      ],
      "metadata": {
        "id": "Nt59D5dkd_lx"
      }
    },
    {
      "cell_type": "code",
      "source": [
        "plt.figure(figsize=(12, 6))\n",
        "\n",
        "# Subplot untuk Suhu\n",
        "plt.subplot(1, 2, 1)\n",
        "sns.barplot(x='holiday', y='temp', data=summary_df, palette='coolwarm')\n",
        "plt.title('Rata-Rata Suhu pada Hari Kerja vs Hari Libur')\n",
        "plt.ylabel('Rata-Rata Suhu (°C)')\n",
        "plt.xlabel('Tipe Hari')\n",
        "\n",
        "# Subplot untuk Jumlah Sewa\n",
        "plt.subplot(1, 2, 2)\n",
        "sns.barplot(x='holiday', y='cnt', data=summary_df, palette='coolwarm')\n",
        "plt.title('Rata-Rata Jumlah Sewa pada Hari Kerja vs Hari Libur')\n",
        "plt.ylabel('Rata-Rata Jumlah Sewa')\n",
        "plt.xlabel('Tipe Hari')\n",
        "\n",
        "plt.tight_layout()\n",
        "plt.show()"
      ],
      "metadata": {
        "id": "Mh969ewcduu9"
      },
      "execution_count": null,
      "outputs": []
    },
    {
      "cell_type": "markdown",
      "source": [
        "**Dari visualisasi di atas, kita dapat menarik beberapa kesimpulan:**\n",
        "- **Rata-Rata Suhu**: Rata-rata suhu pada hari kerja dan hari libur dapat berbeda secara signifikan. Perhatikan apakah hari libur memiliki suhu yang lebih tinggi atau lebih rendah.\n",
        "- **Rata-Rata Jumlah Sewa**: Rata-rata jumlah sewa pada hari kerja mungkin lebih tinggi dibandingkan dengan hari libur atau sebaliknya. Ini bisa mengindikasikan pengaruh suhu terhadap perilaku penyewa, di mana suhu yang lebih tinggi mungkin meningkatkan jumlah sewa, baik pada hari kerja maupun hari libur.\n",
        "\n"
      ],
      "metadata": {
        "id": "mZNCcktueo6D"
      }
    },
    {
      "cell_type": "markdown",
      "metadata": {
        "id": "DgHI7CiU8DC2"
      },
      "source": [
        "### Pertanyaan 2: \"Strategi marketing apa yang dapat diterapkan untuk meningkatkan jumlah pengguna (cnt) pada hari kerja ketika kondisi cuaca buruk?\""
      ]
    },
    {
      "cell_type": "markdown",
      "source": [
        "**Langkah 1: Mengidentifikasi Hari Kerja dengan Cuaca Buruk**"
      ],
      "metadata": {
        "id": "9rbiCZ3FfS7A"
      }
    },
    {
      "cell_type": "code",
      "execution_count": null,
      "metadata": {
        "id": "Go0lCsvO8DC2"
      },
      "outputs": [],
      "source": [
        "# Memuat data\n",
        "# df = pd.read_csv('data.csv') # Misalkan Anda sudah memuat DataFrame Anda di sini\n",
        "\n",
        "# Definisikan ambang untuk kondisi cuaca buruk\n",
        "bad_weather_threshold_temp = 0.3  # Misalnya, suhu di bawah 0.3\n",
        "bad_weather_threshold_weathersit = 2  # Kategorikan kondisi cuaca 2 (hujan)\n",
        "\n",
        "# Ambil data hari kerja dengan kondisi cuaca buruk\n",
        "bad_weather_workdays_df = df[(df['workingday'] == 1) &\n",
        "                              (df['temp'] < bad_weather_threshold_temp) &\n",
        "                              (df['weathersit'] >= bad_weather_threshold_weathersit)]\n",
        "\n",
        "# Memeriksa data yang telah difilter\n",
        "print(bad_weather_workdays_df.head())\n",
        "\n",
        "# Membuat visualisasi\n",
        "plt.figure(figsize=(12, 6))\n",
        "sns.lineplot(data=bad_weather_workdays_df, x='dteday', y='cnt', marker='o', color='orange')\n",
        "plt.title('Jumlah Sewa pada Hari Kerja dengan Cuaca Buruk')\n",
        "plt.xlabel('Tanggal')\n",
        "plt.ylabel('Jumlah Sewa (cnt)')\n",
        "plt.xticks(rotation=45)\n",
        "plt.tight_layout()\n",
        "plt.show()\n",
        "\n",
        "# Analisis Jumlah Sewa\n",
        "average_cnt = bad_weather_workdays_df['cnt'].mean()\n",
        "max_cnt = bad_weather_workdays_df['cnt'].max()\n",
        "min_cnt = bad_weather_workdays_df['cnt'].min()\n",
        "\n",
        "print(f\"Rata-rata jumlah sewa pada hari kerja dengan cuaca buruk: {average_cnt:.2f}\")\n",
        "print(f\"Jumlah sewa maksimum: {max_cnt}\")\n",
        "print(f\"Jumlah sewa minimum: {min_cnt}\")"
      ]
    },
    {
      "cell_type": "markdown",
      "source": [
        "**Penjelasan Analisis**\n",
        "1. **Data Hari Kerja dengan Cuaca Buruk**:\n",
        "   - Kita mengidentifikasi kondisi cuaca buruk berdasarkan suhu (dalam hal ini, di bawah ambang yang ditentukan) dan status cuaca.\n",
        "   - Data yang dihasilkan (bad_weather_workdays_df) hanya mencakup hari kerja ketika kondisi cuaca buruk terjadi.\n",
        "\n",
        "2. **Visualisasi**:\n",
        "   - Grafik yang dihasilkan menunjukkan jumlah sewa (cnt) pada hari kerja selama kondisi cuaca buruk. Dari grafik ini, kita dapat mengidentifikasi pola atau tren yang mungkin terjadi.\n",
        "\n",
        "3. **Analisis Angka**:\n",
        "   - Menghitung rata-rata, maksimum, dan minimum jumlah sewa pada hari kerja dengan cuaca buruk memberikan wawasan lebih lanjut. Misalnya, apakah ada hari dengan lonjakan sewa meskipun cuaca buruk.\n"
      ],
      "metadata": {
        "id": "7PfTvf-Mh9wn"
      }
    },
    {
      "cell_type": "markdown",
      "source": [
        "**Langkah ke 2 : Memberikan Strategi Marketing**"
      ],
      "metadata": {
        "id": "2pw-iOhfjE85"
      }
    },
    {
      "cell_type": "markdown",
      "source": [
        "**Insight:**\n",
        "\n",
        "Berdasarkan analisis ini, saya memberikan beberapa strategi marketing yang dapat diterapkan untuk meningkatkan jumlah pengguna pada hari kerja ketika cuaca buruk dapat mencakup:\n",
        "\n",
        "1. **Promosi Diskon untuk Hari Buruk**: Tawarkan diskon khusus atau penawaran khusus untuk pengguna yang menyewa pada hari-hari dengan kondisi cuaca buruk.\n",
        "\n",
        "2. **Kampanye Pemasaran Berbasis Cuaca**: Gunakan data cuaca untuk mengirimkan penawaran atau promosi melalui email atau aplikasi saat cuaca diperkirakan buruk.\n",
        "\n",
        "3. **Pengembangan Aplikasi yang Ramah Cuaca**: Ciptakan fitur dalam aplikasi yang memberikan informasi tentang sewa dan aktivitas yang cocok untuk cuaca buruk.\n",
        "\n",
        "4. **Kerjasama dengan Bisnis Lokal**: Berkolaborasi dengan kafe atau tempat indoor untuk memberikan insentif kepada pengguna yang menyewa sepeda pada hari hujan.\n",
        "\n",
        "5. **Strategi Pengiklanan**: Fokus pada iklan yang menyoroti bagaimana menggunakan sepeda bisa menjadi solusi alternatif untuk tetap aktif bahkan ketika cuaca kurang baik.\n",
        "\n",
        "Jawaban pertanyaan dua bersifat ide yang saya berikan.\n"
      ],
      "metadata": {
        "id": "_0-36BDLklRg"
      }
    },
    {
      "cell_type": "markdown",
      "source": [
        "## Analisis RFM"
      ],
      "metadata": {
        "id": "9y4VUsmcYNZ5"
      }
    },
    {
      "cell_type": "code",
      "source": [
        "import pandas as pd\n",
        "\n",
        "# Misalkan df sudah dimuat dan memiliki kolom 'dteday', 'cnt', 'casual', dan 'registered'\n",
        "# Menghitung Recency\n",
        "df['dteday'] = pd.to_datetime(df['dteday'])  # Mengkonversi ke format datetime\n",
        "latest_date = df['dteday'].max()\n",
        "\n",
        "# Jika 'customer_id' tidak ada, kita akan menggunakan 'casual' dan 'registered' sebagai segmen\n",
        "# Anda bisa memutuskan untuk menggunakan kedua segmen dengan pendekatan yang berbeda jika diperlukan\n",
        "df['customer_id'] = 'casual'  # Ganti dengan 'registered' atau gunakan pendekatan gabungan\n",
        "\n",
        "# Hitung recency untuk setiap segmen\n",
        "recency_df = df.groupby('customer_id').agg({\n",
        "    'dteday': 'max'\n",
        "}).reset_index()\n",
        "recency_df['recency'] = (latest_date - recency_df['dteday']).dt.days\n",
        "\n",
        "# Hitung frequency untuk setiap segmen\n",
        "frequency_df = df.groupby('customer_id')['cnt'].sum().reset_index() # Changed 'cnt_y' to 'cnt'\n",
        "frequency_df.columns = ['customer_id', 'frequency']\n",
        "\n",
        "# Hitung monetary untuk setiap segmen\n",
        "# Kita akan menggunakan casual dan registered untuk menghitung monetary\n",
        "monetary_df = df.groupby('customer_id')[['casual', 'registered']].sum().reset_index() # Changed 'casual_y' to 'casual and registered_y to registered.\n",
        "monetary_df['monetary'] = monetary_df['casual'] + monetary_df['registered']  # Total pengeluaran\n",
        "\n",
        "# Gabungkan RFM\n",
        "rfm_df = recency_df.merge(frequency_df, on='customer_id').merge(monetary_df[['customer_id', 'monetary']], on='customer_id')\n",
        "\n",
        "# Menampilkan DataFrame RFM\n",
        "print(rfm_df.head())"
      ],
      "metadata": {
        "id": "iWhnzsJGYUCO",
        "colab": {
          "base_uri": "https://localhost:8080/"
        },
        "outputId": "4941521d-4197-46af-8ce4-b995d8c32050"
      },
      "execution_count": 106,
      "outputs": [
        {
          "output_type": "stream",
          "name": "stdout",
          "text": [
            "  customer_id     dteday  recency  frequency  monetary\n",
            "0      casual 2012-12-31        0    3292679   3292679\n"
          ]
        }
      ]
    },
    {
      "cell_type": "markdown",
      "source": [
        "### **Kesimpulan Analisis RFM**\n",
        "\n",
        "Analisis RFM (Recency, Frequency, Monetary) pada segmen pelanggan \"casual\" menunjukkan bahwa pelanggan ini sangat aktif, dengan total 3,292,679 transaksi yang dilakukan hingga 31 Desember 2012. Nilai recency yang rendah (0 hari) menandakan bahwa pelanggan terakhir bertransaksi pada hari analisis, menunjukkan keterlibatan yang tinggi.\n",
        "\n",
        "Selanjutnya, analisis terhadap pengaruh suhu (temp) terhadap jumlah sewa (cnt) pada hari kerja dibandingkan dengan hari libur memberikan wawasan penting. Dengan mempelajari pola sewa berdasarkan kondisi cuaca, kita dapat menemukan bahwa suhu yang nyaman dapat meningkatkan jumlah sewa, sementara kondisi ekstrem dapat mengurangi minat sewa.\n",
        "\n",
        "Untuk meningkatkan jumlah pengguna pada hari kerja saat cuaca buruk, strategi marketing yang efektif perlu diterapkan. Ini termasuk penawaran diskon, paket sewa yang menarik, kampanye pemasaran yang fokus pada manfaat sewa dalam cuaca buruk, penyesuaian waktu sewa, serta menyediakan fasilitas pelindung.\n",
        "\n",
        "Secara keseluruhan, hasil analisis RFM ini memberikan dasar yang kuat untuk pengambilan keputusan strategis yang dapat meningkatkan keterlibatan pelanggan dan pendapatan, sekaligus mengoptimalkan penawaran layanan berdasarkan perilaku pelanggan dan kondisi lingkungan."
      ],
      "metadata": {
        "id": "zmcPyirYrBbk"
      }
    },
    {
      "cell_type": "markdown",
      "metadata": {
        "id": "_WeHlCeX8DC2"
      },
      "source": [
        "## Conclusion"
      ]
    },
    {
      "cell_type": "markdown",
      "metadata": {
        "id": "ZTcyR48Y8DC2"
      },
      "source": [
        "- **Conclution pertanyaan 1 : \"Bagaimana pengaruh suhu (temp) terhadap jumlah total sewa (cnt) pada hari kerja dibandingkan dengan hari libur?\"**\n",
        "\n",
        "  Analisis yang dilakukan menunjukkan bahwa suhu memiliki dampak signifikan terhadap jumlah sewa sepeda (cnt) pada hari kerja dan hari libur. Melalui data wrangling, exploratory data analysis (EDA), dan visualisasi, kami menemukan bahwa suhu yang nyaman cenderung meningkatkan jumlah sewa, sementara kondisi cuaca ekstrem, baik terlalu panas maupun terlalu dingin, berpotensi menurunkan minat pengguna untuk menyewa. Selain itu, analisis perbandingan antara hari kerja dan hari libur menunjukkan bahwa pengguna lebih cenderung menyewa pada suhu sedang, terutama pada hari kerja ketika cuaca mendukung. Temuan ini mengindikasikan bahwa pemahaman tentang pola sewa berdasarkan suhu dapat membantu dalam perencanaan dan strategi pemasaran.\n",
        "\n",
        "- **Conclution pertanyaan 2 : \"Strategi marketing apa yang dapat diterapkan untuk meningkatkan jumlah pengguna (cnt) pada hari kerja ketika kondisi cuaca buruk?\"**\n",
        "\n",
        "  Berdasarkan analisis yang dilakukan, beberapa strategi marketing yang efektif dapat diterapkan untuk meningkatkan jumlah pengguna pada hari kerja ketika cuaca buruk meliputi:\n",
        "\n",
        "    1. Menawarkan diskon khusus untuk penyewaan pada hari hujan.\n",
        "    2. Menciptakan paket sewa menarik yang memberikan nilai tambah.\n",
        "    3. Menggunakan kampanye pemasaran yang menyoroti manfaat menggunakan sepeda dalam kondisi cuaca buruk.\n",
        "    4. Menyediakan opsi sewa yang lebih fleksibel dan fasilitas pelindung seperti jas hujan.\n",
        "  \n",
        "  Dengan menerapkan strategi-strategi ini, perusahaan dapat meningkatkan keterlibatan pengguna dan mengurangi dampak negatif dari kondisi cuaca yang buruk. Secara keseluruhan, analisis ini menunjukkan pentingnya mengintegrasikan faktor-faktor lingkungan ke dalam strategi pemasaran untuk meningkatkan penggunaan sepeda pada hari kerja."
      ]
    }
  ],
  "metadata": {
    "kernelspec": {
      "display_name": "Python 3",
      "language": "python",
      "name": "python3"
    },
    "language_info": {
      "name": "python",
      "version": "3.8.0 (tags/v3.8.0:fa919fd, Oct 14 2019, 19:21:23) [MSC v.1916 32 bit (Intel)]"
    },
    "orig_nbformat": 4,
    "vscode": {
      "interpreter": {
        "hash": "972b3bf27e332e87b5379f2791f6ef9dfc79c71018c370b0d7423235e20fe4d7"
      }
    },
    "colab": {
      "provenance": []
    }
  },
  "nbformat": 4,
  "nbformat_minor": 0
}